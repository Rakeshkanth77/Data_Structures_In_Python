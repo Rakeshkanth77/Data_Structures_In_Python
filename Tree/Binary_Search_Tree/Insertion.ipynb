{
 "cells": [
  {
   "cell_type": "code",
   "execution_count": 4,
   "metadata": {},
   "outputs": [],
   "source": [
    "# Definition of the BST class\n",
    "class BST():\n",
    "    # constructor to initialize a node with a key\n",
    "    def __init__(self,key):\n",
    "        # key value of the node\n",
    "        self.key = key\n",
    "        # left child of the node\n",
    "        self.lchild = None\n",
    "        # right child of the node\n",
    "        self.rchild = None\n",
    "        \n",
    "    # method to insert data into the BST\n",
    "    def insert(self,data):\n",
    "        # if the current node's key value is None, set it to the data\n",
    "        if self.key is None:\n",
    "            self.key = data\n",
    "            return\n",
    "        # if the current node's key value is equal to the data, return\n",
    "        if self.key == data:\n",
    "            return\n",
    "        # if the current node's key value is greater than the data\n",
    "        if self.key > data:\n",
    "            # if there is a left child, call the insert method on the left child\n",
    "            if self.lchild:\n",
    "                self.lchild.insert(data)\n",
    "            # if there is no left child, create a new node with the data as the left child\n",
    "            else:\n",
    "                self.lchild = BST(data)\n",
    "        # if the current node's key value is less than the data\n",
    "        else:\n",
    "            # if there is a right child, call the insert method on the right child\n",
    "            if self.rchild:\n",
    "                self.rchild.insert(data)\n",
    "            # if there is no right child, create a new node with the data as the right child\n",
    "            else:\n",
    "                self.rchild = BST(data)\n",
    "\n",
    "# create the root node of the BST with the value of 10\n",
    "root = BST(10)\n",
    "# list of elements to be inserted into the BST\n",
    "l1 = [20,4,30,5,1,2,3]\n",
    "# loop through the list and insert each element into the BST\n",
    "for i in l1:\n",
    "    root.insert(i)\n",
    "\n",
    "\n"
   ]
  },
  {
   "cell_type": "code",
   "execution_count": null,
   "metadata": {},
   "outputs": [],
   "source": []
  }
 ],
 "metadata": {
  "kernelspec": {
   "display_name": "base",
   "language": "python",
   "name": "python3"
  },
  "language_info": {
   "codemirror_mode": {
    "name": "ipython",
    "version": 3
   },
   "file_extension": ".py",
   "mimetype": "text/x-python",
   "name": "python",
   "nbconvert_exporter": "python",
   "pygments_lexer": "ipython3",
   "version": "3.8.8"
  },
  "orig_nbformat": 4,
  "vscode": {
   "interpreter": {
    "hash": "6854ea8ff5a79f7e4718b9fbdf74d22809e414484d0c695c5bccf0455375b9ad"
   }
  }
 },
 "nbformat": 4,
 "nbformat_minor": 2
}
